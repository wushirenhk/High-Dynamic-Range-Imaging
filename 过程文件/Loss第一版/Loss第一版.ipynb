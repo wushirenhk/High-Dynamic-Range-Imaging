{
 "cells": [
  {
   "cell_type": "code",
   "execution_count": null,
   "id": "33c997b9",
   "metadata": {},
   "outputs": [],
   "source": [
    "class HDRLoss(nn.Module):\n",
    "    def __init__(self, vgg_model):\n",
    "        super(HDRLoss, self).__init__()\n",
    "        self.mse_loss = nn.MSELoss()\n",
    "        self.vgg = vgg_model\n",
    "\n",
    "    def forward(self, Ihdr, Iref, Iu, Io):\n",
    "        # MSE损失\n",
    "        mse_loss = self.mse_loss(Ihdr, Iref)\n",
    "\n",
    "        # 感知损失\n",
    "        Ihdr_vgg = self.vgg(Ihdr)\n",
    "        Iref_vgg = self.vgg(Iref)\n",
    "        perceptual_loss = F.mse_loss(Ihdr_vgg, Iref_vgg)\n",
    "\n",
    "        # 结构相似度损失\n",
    "        mef_ssim_loss = 1 - calculate_mef_ssim(Ihdr, Iref)\n",
    "\n",
    "        # 对抗损失\n",
    "        adversarial_loss = calculate_adversarial_loss(Ihdr, Iref)\n",
    "\n",
    "        # 全局和局部对比损失\n",
    "        global_local_contrast_loss = calculate_global_local_contrast_loss(Ihdr, Iref, Iu, Io)\n",
    "\n",
    "        # 总损失\n",
    "        total_loss = mse_loss + 0.1 * mef_ssim_loss + 0.1 * adversarial_loss + 0.1 * perceptual_loss + 0.1 * global_local_contrast_loss\n",
    "        return total_loss\n",
    "\n",
    "# 假设实现的MEF-SSIM函数\n",
    "def calculate_mef_ssim(Ihdr, Iref):\n",
    "    ##############################\n",
    "    return 0.9  \n",
    "\n",
    "# 假设实现的对抗损失函数\n",
    "def calculate_adversarial_loss(Ihdr, Iref):\n",
    "    ########################\n",
    "    return 0.1  \n",
    "\n",
    "# 假设实现的全局和局部对比损失函数\n",
    "def calculate_global_local_contrast_loss(Ihdr, Iref, Iu, Io):\n",
    "    ############################\n",
    "    return 0.05  "
   ]
  }
 ],
 "metadata": {
  "kernelspec": {
   "display_name": "venv",
   "language": "python",
   "name": "python3"
  },
  "language_info": {
   "codemirror_mode": {
    "name": "ipython",
    "version": 3
   },
   "file_extension": ".py",
   "mimetype": "text/x-python",
   "name": "python",
   "nbconvert_exporter": "python",
   "pygments_lexer": "ipython3",
   "version": "3.10.11"
  }
 },
 "nbformat": 4,
 "nbformat_minor": 5
}
