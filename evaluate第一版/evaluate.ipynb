{
 "cells": [
  {
   "cell_type": "code",
   "execution_count": null,
   "id": "567d711e",
   "metadata": {},
   "outputs": [],
   "source": [
    "import torch\n",
    "import torch.nn as nn\n",
    "import torch.nn.functional as F\n",
    "import torchvision.transforms as transforms\n",
    "from torchvision.models import vgg16\n",
    "from PIL import Image\n",
    "import matplotlib.pyplot as plt\n",
    "from skimage.metrics import structural_similarity as ssim\n",
    "from lpips import LPIPS\n",
    "\n",
    "def calculate_psnr(img1, img2):\n",
    "    mse = F.mse_loss(img1, img2)\n",
    "    if mse == 0:\n",
    "        return float('inf')\n",
    "    return 20 * torch.log10(1.0 / torch.sqrt(mse))\n",
    "\n",
    "def train_model(model, loss_fn, optimizer, dataloader, num_epochs, device):\n",
    "    lpips_fn = LPIPS(net='alex').to(device)\n",
    "    model.to(device)\n",
    "    for epoch in range(num_epochs):\n",
    "        model.train()\n",
    "        avg_psnr = 0\n",
    "        avg_ssim = 0\n",
    "        avg_lpips = 0\n",
    "        for batch in dataloader:\n",
    "            input_image1, input_image2, ref_image = [item.to(device) for item in batch]\n",
    "            output_image = model(input_image1, input_image2)\n",
    "            loss = loss_fn(output_image, ref_image, input_image1, input_image2)\n",
    "            optimizer.zero_grad()\n",
    "            loss.backward()\n",
    "            optimizer.step()\n",
    "\n",
    "            psnr_value = calculate_psnr(output_image, ref_image).item()\n",
    "            ssim_value = ssim(output_image.squeeze(0).permute(1, 2, 0).cpu().numpy(), ref_image.squeeze(0).permute(1, 2, 0).cpu().numpy(), multichannel=True)\n",
    "            lpips_value = lpips_fn(output_image, ref_image).item()\n",
    "            avg_psnr += psnr_value\n",
    "            avg_ssim += ssim_value\n",
    "            avg_lpips += lpips_value\n",
    "\n",
    "        avg_psnr /= len(dataloader)\n",
    "        avg_ssim /= len(dataloader)\n",
    "        avg_lpips /= len(dataloader)\n",
    "\n",
    "        print(f'Epoch [{epoch + 1}/{num_epochs}], Loss: {loss.item()}, PSNR: {avg_psnr:.4f}, SSIM: {avg_ssim:.4f}, LPIPS: {avg_lpips:.4f}')\n",
    "\n",
    "\n"
   ]
  }
 ],
 "metadata": {
  "kernelspec": {
   "display_name": "venv",
   "language": "python",
   "name": "python3"
  },
  "language_info": {
   "codemirror_mode": {
    "name": "ipython",
    "version": 3
   },
   "file_extension": ".py",
   "mimetype": "text/x-python",
   "name": "python",
   "nbconvert_exporter": "python",
   "pygments_lexer": "ipython3",
   "version": "3.9.0"
  }
 },
 "nbformat": 4,
 "nbformat_minor": 5
}
